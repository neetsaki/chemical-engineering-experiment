{
 "cells": [
  {
   "cell_type": "code",
   "execution_count": 10,
   "metadata": {},
   "outputs": [],
   "source": [
    "import numpy as np\n",
    "import sympy\n",
    "from scipy import integrate\n",
    "import matplotlib.pyplot as plt"
   ]
  },
  {
   "cell_type": "code",
   "execution_count": 12,
   "metadata": {},
   "outputs": [],
   "source": [
    "def plot_direction_field(x, y_x, f_xy, x_lim=(-5, 5), y_lim=(-5, 5), ax=None):\n",
    "    f_np = sympy.lambdify((x, y_x), f_xy, 'numpy')\n",
    "    x_vec = np.linspace(x_lim[0], x_lim[1], 20)\n",
    "    y_vec = np.linspace(y_lim[0], y_lim[1], 20)\n",
    "\n",
    "    if ax is None:\n",
    "        _, ax = plt.subplots(figsize=(4, 4))\n",
    "\n",
    "    dx = x_vec[1] - x_vec[0]\n",
    "    dy = y_vec[1] - y_vec[0]\n",
    "\n",
    "    for m, xx in enumerate(x_vec):\n",
    "        for n, yy in enumerate(y_vec):\n",
    "            Dy = f_np(xx, yy) * dx\n",
    "            Dx = 0.8 * dx**2 / np.sqrt(dx**2 + Dy**2)\n",
    "            Dy = 0.8 * Dy*dy / np.sqrt(dx**2 + Dy**2)\n",
    "            ax.plot([xx - Dx/2, xx + Dx/2],\n",
    "                [yy - Dy/2, yy + Dy/2], 'b', lw=0.5)\n",
    "\n",
    "    ax.axis('tight')\n",
    "    ax.set_title(r\"$%s$\" %\n",
    "        (sympy.latex(sympy.Eq(y_x.diff(x), f_xy))), fontsize=18)\n",
    "\n",
    "    return ax"
   ]
  },
  {
   "cell_type": "code",
   "execution_count": 19,
   "metadata": {},
   "outputs": [
    {
     "name": "stderr",
     "output_type": "stream",
     "text": [
      "D:\\Anaconda3\\lib\\site-packages\\scipy\\integrate\\odepack.py:247: ODEintWarning: Excess work done on this call (perhaps wrong Dfun type). Run with full_output = 1 to get quantitative information.\n",
      "  warnings.warn(warning_msg, ODEintWarning)\n",
      "D:\\Anaconda3\\lib\\site-packages\\numpy\\__init__.py:1: RuntimeWarning: invalid value encountered in power\n",
      "  \"\"\"\n"
     ]
    },
    {
     "data": {
      "image/png": "[encoded data removed]",
      "text/plain": [
       "<Figure size 288x288 with 1 Axes>"
      ]
     },
     "metadata": {},
     "output_type": "display_data"
    }
   ],
   "source": [
    "x=sympy.symbols('x')\n",
    "y=sympy.Function('y')\n",
    "f=y(x)**1.1+y(x)**2.1+x\n",
    "f_np = sympy.lambdify((y(x),x),f)\n",
    "y0 = 0\n",
    "xp=np.linspace(0,1.9,100)\n",
    "yp=integrate.odeint(f_np,y0,xp)\n",
    "xm=np.linspace(0,-5,100)\n",
    "ym=integrate.odeint(f_np,y0,xm)\n",
    "fig, ax = plt.subplots(1, 1, figsize=(4, 4))\n",
    "plot_direction_field(x, y(x), f, ax=ax)\n",
    "ax.plot(xm, ym, 'b', lw=2)\n",
    "ax.plot(xp, yp, 'r', lw=2)\n",
    "plt.show()"
   ]
  },
  {
   "cell_type": "code",
   "execution_count": 3,
   "metadata": {},
   "outputs": [
    {
     "data": {
      "text/plain": [
       "0.002"
      ]
     },
     "execution_count": 3,
     "metadata": {},
     "output_type": "execute_result"
    }
   ],
   "source": [
    "0.05/25"
   ]
  },
  {
   "cell_type": "code",
   "execution_count": 4,
   "metadata": {},
   "outputs": [
    {
     "data": {
      "text/plain": [
       "2955.54"
      ]
     },
     "execution_count": 4,
     "metadata": {},
     "output_type": "execute_result"
    }
   ],
   "source": [
    "1/0.5*1000\n",
    "1.47777/0.5*1000\n"
   ]
  },
  {
   "cell_type": "code",
   "execution_count": 1,
   "metadata": {},
   "outputs": [
    {
     "data": {
      "text/plain": [
       "0.6928756735182598"
      ]
     },
     "execution_count": 1,
     "metadata": {},
     "output_type": "execute_result"
    }
   ],
   "source": [
    "0.6944/1.0022"
   ]
  },
  {
   "cell_type": "code",
   "execution_count": null,
   "metadata": {},
   "outputs": [],
   "source": []
  }
 ],
 "metadata": {
  "kernelspec": {
   "display_name": "Python 3",
   "language": "python",
   "name": "python3"
  },
  "language_info": {
   "codemirror_mode": {
    "name": "ipython",
    "version": 3
   },
   "file_extension": ".py",
   "mimetype": "text/x-python",
   "name": "python",
   "nbconvert_exporter": "python",
   "pygments_lexer": "ipython3",
   "version": "3.6.8"
  }
 },
 "nbformat": 4,
 "nbformat_minor": 2
}
